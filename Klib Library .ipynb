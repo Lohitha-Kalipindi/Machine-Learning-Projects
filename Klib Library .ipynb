{
 "cells": [
  {
   "cell_type": "code",
   "execution_count": 1,
   "id": "6db18fd7-6a44-4031-957c-9bba3a80dcb6",
   "metadata": {},
   "outputs": [],
   "source": [
    "# import klib\n",
    "import pandas as pd\n",
    "from sklearn.datasets import load_diabetes, load_iris"
   ]
  },
  {
   "cell_type": "code",
   "execution_count": 2,
   "id": "31a261d1-67da-4665-b264-89743b475589",
   "metadata": {},
   "outputs": [],
   "source": [
    "df = pd.DataFrame(load_iris().data)\n",
    "# Change the dataset with titanic ds"
   ]
  },
  {
   "cell_type": "code",
   "execution_count": 3,
   "id": "0de87721-f241-4bc4-a53d-f2c9525529a6",
   "metadata": {},
   "outputs": [],
   "source": [
    "df.columns = load_iris().feature_names"
   ]
  },
  {
   "cell_type": "code",
   "execution_count": 4,
   "id": "f37ebc66-8380-488d-8ff2-e7d706fa652e",
   "metadata": {},
   "outputs": [
    {
     "data": {
      "text/html": [
       "<div>\n",
       "<style scoped>\n",
       "    .dataframe tbody tr th:only-of-type {\n",
       "        vertical-align: middle;\n",
       "    }\n",
       "\n",
       "    .dataframe tbody tr th {\n",
       "        vertical-align: top;\n",
       "    }\n",
       "\n",
       "    .dataframe thead th {\n",
       "        text-align: right;\n",
       "    }\n",
       "</style>\n",
       "<table border=\"1\" class=\"dataframe\">\n",
       "  <thead>\n",
       "    <tr style=\"text-align: right;\">\n",
       "      <th></th>\n",
       "      <th>sepal length (cm)</th>\n",
       "      <th>sepal width (cm)</th>\n",
       "      <th>petal length (cm)</th>\n",
       "      <th>petal width (cm)</th>\n",
       "    </tr>\n",
       "  </thead>\n",
       "  <tbody>\n",
       "    <tr>\n",
       "      <th>0</th>\n",
       "      <td>5.1</td>\n",
       "      <td>3.5</td>\n",
       "      <td>1.4</td>\n",
       "      <td>0.2</td>\n",
       "    </tr>\n",
       "    <tr>\n",
       "      <th>1</th>\n",
       "      <td>4.9</td>\n",
       "      <td>3.0</td>\n",
       "      <td>1.4</td>\n",
       "      <td>0.2</td>\n",
       "    </tr>\n",
       "    <tr>\n",
       "      <th>2</th>\n",
       "      <td>4.7</td>\n",
       "      <td>3.2</td>\n",
       "      <td>1.3</td>\n",
       "      <td>0.2</td>\n",
       "    </tr>\n",
       "    <tr>\n",
       "      <th>3</th>\n",
       "      <td>4.6</td>\n",
       "      <td>3.1</td>\n",
       "      <td>1.5</td>\n",
       "      <td>0.2</td>\n",
       "    </tr>\n",
       "    <tr>\n",
       "      <th>4</th>\n",
       "      <td>5.0</td>\n",
       "      <td>3.6</td>\n",
       "      <td>1.4</td>\n",
       "      <td>0.2</td>\n",
       "    </tr>\n",
       "  </tbody>\n",
       "</table>\n",
       "</div>"
      ],
      "text/plain": [
       "   sepal length (cm)  sepal width (cm)  petal length (cm)  petal width (cm)\n",
       "0                5.1               3.5                1.4               0.2\n",
       "1                4.9               3.0                1.4               0.2\n",
       "2                4.7               3.2                1.3               0.2\n",
       "3                4.6               3.1                1.5               0.2\n",
       "4                5.0               3.6                1.4               0.2"
      ]
     },
     "execution_count": 4,
     "metadata": {},
     "output_type": "execute_result"
    }
   ],
   "source": [
    "df.head()"
   ]
  },
  {
   "cell_type": "code",
   "execution_count": 5,
   "id": "40d7e395-7166-438d-a003-0ff7fa090d10",
   "metadata": {},
   "outputs": [],
   "source": [
    "# Klib Documentation\n",
    "# https://pypi.org/project/klib/"
   ]
  },
  {
   "cell_type": "markdown",
   "id": "8eb8743c-befe-4d57-a6d4-3d0933335200",
   "metadata": {},
   "source": [
    "# Klib Documentation\n",
    "\n",
    "## Overview\n",
    "**Klib** is a library used for processing and cleaning datasets, even when the user has limited knowledge about them. It provides tools for visualization and cleaning of data.\n",
    "\n",
    "---\n",
    "\n",
    "## Functions for Visualization\n",
    "\n",
    "### `klib.describe`\n",
    "Functions for visualizing datasets:\n",
    "\n",
    "- `klib.cat_plot(df)`  \n",
    "  Returns a visualization of the number and frequency of categorical features.\n",
    "\n",
    "- `klib.corr_mat(df)`  \n",
    "  Returns a color-encoded correlation matrix.\n",
    "\n",
    "- `klib.corr_plot(df)`  \n",
    "  Returns a color-encoded heatmap, ideal for correlations.\n",
    "\n",
    "- `klib.corr_interactive_plot(df, split=\"neg\").show()`  \n",
    "  Returns an interactive correlation plot using Plotly.\n",
    "\n",
    "- `klib.dist_plot(df)`  \n",
    "  Returns a distribution plot for every numeric feature.\n",
    "\n",
    "- `klib.missingval_plot(df)`  \n",
    "  Returns a figure containing information about missing values.\n",
    "\n",
    "Run these functions one by one to analyze your dataset.\n",
    "\n",
    "---\n",
    "\n",
    "## Functions for Cleaning Datasets\n",
    "\n",
    "### `klib.clean`\n",
    "Functions for cleaning and preprocessing data:\n",
    "\n",
    "- `klib.data_cleaning(df)`  \n",
    "  Performs data cleaning tasks such as dropping duplicates and empty rows/columns, and adjusting data types.\n",
    "\n",
    "- `klib.clean_column_names(df)`  \n",
    "  Cleans and standardizes column names. This is also called within `data_cleaning()`.\n",
    "\n",
    "- `klib.convert_datatypes(df)`  \n",
    "  Converts existing data to more efficient data types. This is also called within `data_cleaning()`.\n",
    "\n",
    "- `klib.drop_missing(df)`  \n",
    "  Drops missing values. This is also included in `data_cleaning()` but should be used carefully.\n",
    "\n",
    "- `klib.mv_col_handling(df)`  \n",
    "  Drops features with a high ratio of missing values based on informational content.\n",
    "\n",
    "- `klib.pool_duplicate_subsets(df)`  \n",
    "  Pools subsets of columns based on duplicates with minimal loss of information.\n",
    "\n",
    "---\n",
    "\n",
    "## Important Note\n",
    "- **Do not use cleaning functions randomly**:  \n",
    "  Functions like `klib.drop_missing(df)` will drop all missing values, which might lead to data loss.\n",
    "  \n",
    "- **Use cleaning functions only when you have a complete understanding of their impact**:  \n",
    "  This ensures efficient and meaningful cleaning of your dataset.\n"
   ]
  },
  {
   "cell_type": "code",
   "execution_count": null,
   "id": "e6b98461-f8af-4a18-a2d5-37c72c7ab0d5",
   "metadata": {},
   "outputs": [],
   "source": []
  }
 ],
 "metadata": {
  "kernelspec": {
   "display_name": "Python 3 (ipykernel)",
   "language": "python",
   "name": "python3"
  },
  "language_info": {
   "codemirror_mode": {
    "name": "ipython",
    "version": 3
   },
   "file_extension": ".py",
   "mimetype": "text/x-python",
   "name": "python",
   "nbconvert_exporter": "python",
   "pygments_lexer": "ipython3",
   "version": "3.12.4"
  }
 },
 "nbformat": 4,
 "nbformat_minor": 5
}
